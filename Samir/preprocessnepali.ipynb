{
 "cells": [
  {
   "cell_type": "code",
   "execution_count": 1,
   "metadata": {},
   "outputs": [
    {
     "name": "stdout",
     "output_type": "stream",
     "text": [
      "Defaulting to user installation because normal site-packages is not writeable\n",
      "Collecting langdetect\n",
      "  Using cached langdetect-1.0.9-py3-none-any.whl\n",
      "Requirement already satisfied: six in c:\\users\\l e g i o n\\appdata\\roaming\\python\\python312\\site-packages (from langdetect) (1.16.0)\n",
      "Installing collected packages: langdetect\n",
      "Successfully installed langdetect-1.0.9\n"
     ]
    },
    {
     "name": "stderr",
     "output_type": "stream",
     "text": [
      "DEPRECATION: Loading egg at c:\\program files\\python312\\lib\\site-packages\\vboxapi-1.0-py3.12.egg is deprecated. pip 24.3 will enforce this behaviour change. A possible replacement is to use pip for package installation. Discussion can be found at https://github.com/pypa/pip/issues/12330\n"
     ]
    }
   ],
   "source": [
    "!Pip install langdetect"
   ]
  },
  {
   "cell_type": "code",
   "execution_count": 3,
   "metadata": {},
   "outputs": [],
   "source": [
    "import pandas as pd\n",
    "import re\n",
    "from langdetect import detect, DetectorFactory\n",
    "from langdetect.lang_detect_exception import LangDetectException"
   ]
  },
  {
   "cell_type": "code",
   "execution_count": 4,
   "metadata": {},
   "outputs": [],
   "source": [
    "DetectorFactory.seed = 0"
   ]
  },
  {
   "cell_type": "markdown",
   "metadata": {},
   "source": [
    "# Text Cleaning"
   ]
  },
  {
   "cell_type": "code",
   "execution_count": 5,
   "metadata": {},
   "outputs": [],
   "source": [
    "def clean_text(text):\n",
    "    # Remove punctuation, numbers, and special characters\n",
    "    text = re.sub(r'[^a-zA-Z\\u0900-\\u097F\\s]', '', text)\n",
    "    # Remove extra whitespaces\n",
    "    text = re.sub(r'\\s+', ' ', text).strip()\n",
    "    return text"
   ]
  },
  {
   "cell_type": "markdown",
   "metadata": {},
   "source": [
    "# Function To Detect Non Nepali Words"
   ]
  },
  {
   "cell_type": "code",
   "execution_count": 6,
   "metadata": {},
   "outputs": [],
   "source": [
    "def is_non_nepali(text):\n",
    "    try:\n",
    "        lang = detect(text)\n",
    "        # Return True if the language detected is not Nepali ('ne')\n",
    "        return lang != 'ne'\n",
    "    except LangDetectException:\n",
    "        # In case of detection failure, assume it's non-Nepali\n",
    "        return True"
   ]
  },
  {
   "cell_type": "markdown",
   "metadata": {},
   "source": [
    "# Dataset Path\n"
   ]
  },
  {
   "cell_type": "code",
   "execution_count": 10,
   "metadata": {},
   "outputs": [
    {
     "data": {
      "text/html": [
       "<div>\n",
       "<style scoped>\n",
       "    .dataframe tbody tr th:only-of-type {\n",
       "        vertical-align: middle;\n",
       "    }\n",
       "\n",
       "    .dataframe tbody tr th {\n",
       "        vertical-align: top;\n",
       "    }\n",
       "\n",
       "    .dataframe thead th {\n",
       "        text-align: right;\n",
       "    }\n",
       "</style>\n",
       "<table border=\"1\" class=\"dataframe\">\n",
       "  <thead>\n",
       "    <tr style=\"text-align: right;\">\n",
       "      <th></th>\n",
       "      <th>Id</th>\n",
       "      <th>Article Link</th>\n",
       "      <th>Text</th>\n",
       "    </tr>\n",
       "  </thead>\n",
       "  <tbody>\n",
       "    <tr>\n",
       "      <th>0</th>\n",
       "      <td>1</td>\n",
       "      <td>https://ne.wikipedia.org/wiki/%E0%A4%AE%E0%A5%...</td>\n",
       "      <td>यो एक स्वतन्त्रविश्वकोशहो जसलाईसबैले सम्पादन ग...</td>\n",
       "    </tr>\n",
       "    <tr>\n",
       "      <th>1</th>\n",
       "      <td>2</td>\n",
       "      <td>https://ne.wikipedia.org/wiki/%E0%A4%B5%E0%A4%...</td>\n",
       "      <td>यो पृष्ठले सधैँ सानो फन्ट साइज प्रयोग गर्दछ</td>\n",
       "    </tr>\n",
       "    <tr>\n",
       "      <th>2</th>\n",
       "      <td>3</td>\n",
       "      <td>https://ne.wikipedia.org/wiki/%E0%A4%AE%E0%A5%...</td>\n",
       "      <td>यो एक स्वतन्त्रविश्वकोशहो जसलाईसबैले सम्पादन ग...</td>\n",
       "    </tr>\n",
       "    <tr>\n",
       "      <th>3</th>\n",
       "      <td>4</td>\n",
       "      <td>https://ne.wikipedia.org/wiki/%E0%A4%B5%E0%A4%...</td>\n",
       "      <td>लिवाली समूह बारे किरण ह्योंगो मिति विवरण रकम ब...</td>\n",
       "    </tr>\n",
       "    <tr>\n",
       "      <th>4</th>\n",
       "      <td>5</td>\n",
       "      <td>https://ne.wikipedia.org/wiki/%E0%A4%B5%E0%A4%...</td>\n",
       "      <td>विकिपिडिया लगायत विभिन्न विकी परियोजनाहरूलाई प...</td>\n",
       "    </tr>\n",
       "    <tr>\n",
       "      <th>...</th>\n",
       "      <td>...</td>\n",
       "      <td>...</td>\n",
       "      <td>...</td>\n",
       "    </tr>\n",
       "    <tr>\n",
       "      <th>4995</th>\n",
       "      <td>4996</td>\n",
       "      <td>https://ne.wikipedia.org/wiki/Hinduism</td>\n",
       "      <td>योगदान कर्ताहरूका लागि</td>\n",
       "    </tr>\n",
       "    <tr>\n",
       "      <th>4996</th>\n",
       "      <td>4997</td>\n",
       "      <td>https://ne.wikipedia.org/wiki/%E0%A4%A6%E0%A5%...</td>\n",
       "      <td>समुहमा मिलेर गाइने गीतदेउसीहो जुनतिहारको बेलाम...</td>\n",
       "    </tr>\n",
       "    <tr>\n",
       "      <th>4997</th>\n",
       "      <td>4998</td>\n",
       "      <td>https://ne.wikipedia.org/wiki/%E0%A4%97%E0%A5%...</td>\n",
       "      <td>नेपाल देश कृषिप्रधान देश हो।गोरुकर्मयोगी किसान...</td>\n",
       "    </tr>\n",
       "    <tr>\n",
       "      <th>4998</th>\n",
       "      <td>4999</td>\n",
       "      <td>https://ne.wikipedia.org/wiki/%E0%A4%AD%E0%A4%...</td>\n",
       "      <td>एउटै आमाको कोखबाट जन्मेको उमेरमा आफूभन्दा कान्...</td>\n",
       "    </tr>\n",
       "    <tr>\n",
       "      <th>4999</th>\n",
       "      <td>5000</td>\n",
       "      <td>https://ne.wikipedia.org/wiki/%E0%A4%B8%E0%A5%...</td>\n",
       "      <td>स्थलीय ग्रहहरूको विपरीत सूर्यको कुनै निश्चित स...</td>\n",
       "    </tr>\n",
       "  </tbody>\n",
       "</table>\n",
       "<p>5000 rows × 3 columns</p>\n",
       "</div>"
      ],
      "text/plain": [
       "        Id                                       Article Link  \\\n",
       "0        1  https://ne.wikipedia.org/wiki/%E0%A4%AE%E0%A5%...   \n",
       "1        2  https://ne.wikipedia.org/wiki/%E0%A4%B5%E0%A4%...   \n",
       "2        3  https://ne.wikipedia.org/wiki/%E0%A4%AE%E0%A5%...   \n",
       "3        4  https://ne.wikipedia.org/wiki/%E0%A4%B5%E0%A4%...   \n",
       "4        5  https://ne.wikipedia.org/wiki/%E0%A4%B5%E0%A4%...   \n",
       "...    ...                                                ...   \n",
       "4995  4996             https://ne.wikipedia.org/wiki/Hinduism   \n",
       "4996  4997  https://ne.wikipedia.org/wiki/%E0%A4%A6%E0%A5%...   \n",
       "4997  4998  https://ne.wikipedia.org/wiki/%E0%A4%97%E0%A5%...   \n",
       "4998  4999  https://ne.wikipedia.org/wiki/%E0%A4%AD%E0%A4%...   \n",
       "4999  5000  https://ne.wikipedia.org/wiki/%E0%A4%B8%E0%A5%...   \n",
       "\n",
       "                                                   Text  \n",
       "0     यो एक स्वतन्त्रविश्वकोशहो जसलाईसबैले सम्पादन ग...  \n",
       "1           यो पृष्ठले सधैँ सानो फन्ट साइज प्रयोग गर्दछ  \n",
       "2     यो एक स्वतन्त्रविश्वकोशहो जसलाईसबैले सम्पादन ग...  \n",
       "3     लिवाली समूह बारे किरण ह्योंगो मिति विवरण रकम ब...  \n",
       "4     विकिपिडिया लगायत विभिन्न विकी परियोजनाहरूलाई प...  \n",
       "...                                                 ...  \n",
       "4995                             योगदान कर्ताहरूका लागि  \n",
       "4996  समुहमा मिलेर गाइने गीतदेउसीहो जुनतिहारको बेलाम...  \n",
       "4997  नेपाल देश कृषिप्रधान देश हो।गोरुकर्मयोगी किसान...  \n",
       "4998  एउटै आमाको कोखबाट जन्मेको उमेरमा आफूभन्दा कान्...  \n",
       "4999  स्थलीय ग्रहहरूको विपरीत सूर्यको कुनै निश्चित स...  \n",
       "\n",
       "[5000 rows x 3 columns]"
      ]
     },
     "execution_count": 10,
     "metadata": {},
     "output_type": "execute_result"
    }
   ],
   "source": [
    "file_path = 'nepali_wikipedia_articles.csv'  # Change this to your file path\n",
    "df = pd.read_csv(file_path)\n",
    "df"
   ]
  },
  {
   "cell_type": "markdown",
   "metadata": {},
   "source": [
    "# I am creating a list of non nepali words inside this CSV"
   ]
  },
  {
   "cell_type": "code",
   "execution_count": 12,
   "metadata": {},
   "outputs": [
    {
     "name": "stderr",
     "output_type": "stream",
     "text": [
      "C:\\Users\\L E G I O N\\AppData\\Local\\Temp\\ipykernel_23456\\482542982.py:12: FutureWarning: Setting an item of incompatible dtype is deprecated and will raise an error in a future version of pandas. Value '' has dtype incompatible with int64, please explicitly cast to a compatible dtype first.\n",
      "  df.at[row, col] = ''  # Remove non-Nepali content\n"
     ]
    }
   ],
   "source": [
    "non_nepali_words_df = pd.DataFrame(columns=['Row', 'Column', 'Non-Nepali Text'])\n",
    "# Iterate over each cell, detect non-Nepali text and remove them\n",
    "for row in df.index:\n",
    "    for col in df.columns:\n",
    "        cell_value = str(df.at[row, col])  # Get the cell content\n",
    "        cleaned_value = clean_text(cell_value)\n",
    "        # If the cleaned cell value is non-Nepali, store it and remove from the original\n",
    "        if is_non_nepali(cleaned_value):\n",
    "            # Append new data using pd.concat instead of append\n",
    "            new_row = pd.DataFrame({'Row': [row], 'Column': [col], 'Non-Nepali Text': [cleaned_value]})\n",
    "            non_nepali_words_df = pd.concat([non_nepali_words_df, new_row], ignore_index=True)\n",
    "            df.at[row, col] = ''  # Remove non-Nepali content"
   ]
  },
  {
   "cell_type": "code",
   "execution_count": 13,
   "metadata": {},
   "outputs": [],
   "source": [
    "non_nepali_words_file_path = 'non_nepali_words.csv'\n",
    "non_nepali_words_df.to_csv(non_nepali_words_file_path, index=False)\n"
   ]
  },
  {
   "cell_type": "code",
   "execution_count": 16,
   "metadata": {},
   "outputs": [],
   "source": [
    "# Save the cleaned dataset back to the original Excel file (or a new one)\n",
    "cleaned_file_path = 'cleaned_dataset.csv'\n",
    "df.to_csv(cleaned_file_path, index=False)"
   ]
  },
  {
   "cell_type": "markdown",
   "metadata": {},
   "source": [
    "# Stemming"
   ]
  },
  {
   "cell_type": "code",
   "execution_count": null,
   "metadata": {},
   "outputs": [],
   "source": [
    "from Nepali_nlp.Nepali_nlp import Stem\n",
    "text = 'नेताहरुमा यत्तिको राजनैतिक संस्कार हुनुपर्छ'\n",
    "Stem().rootify(text)"
   ]
  }
 ],
 "metadata": {
  "kernelspec": {
   "display_name": "Python 3",
   "language": "python",
   "name": "python3"
  },
  "language_info": {
   "codemirror_mode": {
    "name": "ipython",
    "version": 3
   },
   "file_extension": ".py",
   "mimetype": "text/x-python",
   "name": "python",
   "nbconvert_exporter": "python",
   "pygments_lexer": "ipython3",
   "version": "3.12.3"
  }
 },
 "nbformat": 4,
 "nbformat_minor": 2
}
