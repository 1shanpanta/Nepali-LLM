{
 "cells": [
  {
   "cell_type": "code",
   "execution_count": 1,
   "metadata": {},
   "outputs": [
    {
     "name": "stdout",
     "output_type": "stream",
     "text": [
      "Defaulting to user installation because normal site-packages is not writeable\n",
      "Collecting langdetect\n",
      "  Using cached langdetect-1.0.9-py3-none-any.whl\n",
      "Requirement already satisfied: six in c:\\users\\l e g i o n\\appdata\\roaming\\python\\python312\\site-packages (from langdetect) (1.16.0)\n",
      "Installing collected packages: langdetect\n",
      "Successfully installed langdetect-1.0.9\n"
     ]
    },
    {
     "name": "stderr",
     "output_type": "stream",
     "text": [
      "DEPRECATION: Loading egg at c:\\program files\\python312\\lib\\site-packages\\vboxapi-1.0-py3.12.egg is deprecated. pip 24.3 will enforce this behaviour change. A possible replacement is to use pip for package installation. Discussion can be found at https://github.com/pypa/pip/issues/12330\n"
     ]
    }
   ],
   "source": [
    "!Pip install langdetect"
   ]
  },
  {
   "cell_type": "code",
   "execution_count": 3,
   "metadata": {},
   "outputs": [],
   "source": [
    "import pandas as pd\n",
    "import re\n",
    "from langdetect import detect, DetectorFactory\n",
    "from langdetect.lang_detect_exception import LangDetectException"
   ]
  },
  {
   "cell_type": "code",
   "execution_count": 4,
   "metadata": {},
   "outputs": [],
   "source": [
    "DetectorFactory.seed = 0"
   ]
  },
  {
   "cell_type": "markdown",
   "metadata": {},
   "source": [
    "# Text Cleaning"
   ]
  },
  {
   "cell_type": "code",
   "execution_count": 26,
   "metadata": {},
   "outputs": [],
   "source": [
    "def clean_text(text):\n",
    "    # Remove punctuation, numbers, and special characters\n",
    "    text = re.sub(r'[^a-zA-Z\\u0900-\\u097F\\s]', '', text)\n",
    "    # Remove extra whitespaces\n",
    "    text = re.sub(r'\\s+', ' ', text).strip()\n",
    "    return text"
   ]
  },
  {
   "cell_type": "markdown",
   "metadata": {},
   "source": [
    "# Function To Detect Non Nepali Words "
   ]
  },
  {
   "cell_type": "code",
   "execution_count": 6,
   "metadata": {},
   "outputs": [],
   "source": [
    "def is_non_nepali(text):\n",
    "    try:\n",
    "        lang = detect(text)\n",
    "        # Return True if the language detected is not Nepali ('ne')\n",
    "        return lang != 'ne'  # returns if lang is not equal to ne\n",
    "    except LangDetectException:\n",
    "        # In case of detection failure, assume it's non-Nepali this is an exception;\n",
    "        return True #returns true"
   ]
  },
  {
   "cell_type": "markdown",
   "metadata": {},
   "source": [
    "# Dataset Path\n"
   ]
  },
  {
   "cell_type": "code",
   "execution_count": 10,
   "metadata": {},
   "outputs": [
    {
     "data": {
      "text/html": [
       "<div>\n",
       "<style scoped>\n",
       "    .dataframe tbody tr th:only-of-type {\n",
       "        vertical-align: middle;\n",
       "    }\n",
       "\n",
       "    .dataframe tbody tr th {\n",
       "        vertical-align: top;\n",
       "    }\n",
       "\n",
       "    .dataframe thead th {\n",
       "        text-align: right;\n",
       "    }\n",
       "</style>\n",
       "<table border=\"1\" class=\"dataframe\">\n",
       "  <thead>\n",
       "    <tr style=\"text-align: right;\">\n",
       "      <th></th>\n",
       "      <th>Id</th>\n",
       "      <th>Article Link</th>\n",
       "      <th>Text</th>\n",
       "    </tr>\n",
       "  </thead>\n",
       "  <tbody>\n",
       "    <tr>\n",
       "      <th>0</th>\n",
       "      <td>1</td>\n",
       "      <td>https://ne.wikipedia.org/wiki/%E0%A4%AE%E0%A5%...</td>\n",
       "      <td>यो एक स्वतन्त्रविश्वकोशहो जसलाईसबैले सम्पादन ग...</td>\n",
       "    </tr>\n",
       "    <tr>\n",
       "      <th>1</th>\n",
       "      <td>2</td>\n",
       "      <td>https://ne.wikipedia.org/wiki/%E0%A4%B5%E0%A4%...</td>\n",
       "      <td>यो पृष्ठले सधैँ सानो फन्ट साइज प्रयोग गर्दछ</td>\n",
       "    </tr>\n",
       "    <tr>\n",
       "      <th>2</th>\n",
       "      <td>3</td>\n",
       "      <td>https://ne.wikipedia.org/wiki/%E0%A4%AE%E0%A5%...</td>\n",
       "      <td>यो एक स्वतन्त्रविश्वकोशहो जसलाईसबैले सम्पादन ग...</td>\n",
       "    </tr>\n",
       "    <tr>\n",
       "      <th>3</th>\n",
       "      <td>4</td>\n",
       "      <td>https://ne.wikipedia.org/wiki/%E0%A4%B5%E0%A4%...</td>\n",
       "      <td>लिवाली समूह बारे किरण ह्योंगो मिति विवरण रकम ब...</td>\n",
       "    </tr>\n",
       "    <tr>\n",
       "      <th>4</th>\n",
       "      <td>5</td>\n",
       "      <td>https://ne.wikipedia.org/wiki/%E0%A4%B5%E0%A4%...</td>\n",
       "      <td>विकिपिडिया लगायत विभिन्न विकी परियोजनाहरूलाई प...</td>\n",
       "    </tr>\n",
       "    <tr>\n",
       "      <th>...</th>\n",
       "      <td>...</td>\n",
       "      <td>...</td>\n",
       "      <td>...</td>\n",
       "    </tr>\n",
       "    <tr>\n",
       "      <th>4995</th>\n",
       "      <td>4996</td>\n",
       "      <td>https://ne.wikipedia.org/wiki/Hinduism</td>\n",
       "      <td>योगदान कर्ताहरूका लागि</td>\n",
       "    </tr>\n",
       "    <tr>\n",
       "      <th>4996</th>\n",
       "      <td>4997</td>\n",
       "      <td>https://ne.wikipedia.org/wiki/%E0%A4%A6%E0%A5%...</td>\n",
       "      <td>समुहमा मिलेर गाइने गीतदेउसीहो जुनतिहारको बेलाम...</td>\n",
       "    </tr>\n",
       "    <tr>\n",
       "      <th>4997</th>\n",
       "      <td>4998</td>\n",
       "      <td>https://ne.wikipedia.org/wiki/%E0%A4%97%E0%A5%...</td>\n",
       "      <td>नेपाल देश कृषिप्रधान देश हो।गोरुकर्मयोगी किसान...</td>\n",
       "    </tr>\n",
       "    <tr>\n",
       "      <th>4998</th>\n",
       "      <td>4999</td>\n",
       "      <td>https://ne.wikipedia.org/wiki/%E0%A4%AD%E0%A4%...</td>\n",
       "      <td>एउटै आमाको कोखबाट जन्मेको उमेरमा आफूभन्दा कान्...</td>\n",
       "    </tr>\n",
       "    <tr>\n",
       "      <th>4999</th>\n",
       "      <td>5000</td>\n",
       "      <td>https://ne.wikipedia.org/wiki/%E0%A4%B8%E0%A5%...</td>\n",
       "      <td>स्थलीय ग्रहहरूको विपरीत सूर्यको कुनै निश्चित स...</td>\n",
       "    </tr>\n",
       "  </tbody>\n",
       "</table>\n",
       "<p>5000 rows × 3 columns</p>\n",
       "</div>"
      ],
      "text/plain": [
       "        Id                                       Article Link  \\\n",
       "0        1  https://ne.wikipedia.org/wiki/%E0%A4%AE%E0%A5%...   \n",
       "1        2  https://ne.wikipedia.org/wiki/%E0%A4%B5%E0%A4%...   \n",
       "2        3  https://ne.wikipedia.org/wiki/%E0%A4%AE%E0%A5%...   \n",
       "3        4  https://ne.wikipedia.org/wiki/%E0%A4%B5%E0%A4%...   \n",
       "4        5  https://ne.wikipedia.org/wiki/%E0%A4%B5%E0%A4%...   \n",
       "...    ...                                                ...   \n",
       "4995  4996             https://ne.wikipedia.org/wiki/Hinduism   \n",
       "4996  4997  https://ne.wikipedia.org/wiki/%E0%A4%A6%E0%A5%...   \n",
       "4997  4998  https://ne.wikipedia.org/wiki/%E0%A4%97%E0%A5%...   \n",
       "4998  4999  https://ne.wikipedia.org/wiki/%E0%A4%AD%E0%A4%...   \n",
       "4999  5000  https://ne.wikipedia.org/wiki/%E0%A4%B8%E0%A5%...   \n",
       "\n",
       "                                                   Text  \n",
       "0     यो एक स्वतन्त्रविश्वकोशहो जसलाईसबैले सम्पादन ग...  \n",
       "1           यो पृष्ठले सधैँ सानो फन्ट साइज प्रयोग गर्दछ  \n",
       "2     यो एक स्वतन्त्रविश्वकोशहो जसलाईसबैले सम्पादन ग...  \n",
       "3     लिवाली समूह बारे किरण ह्योंगो मिति विवरण रकम ब...  \n",
       "4     विकिपिडिया लगायत विभिन्न विकी परियोजनाहरूलाई प...  \n",
       "...                                                 ...  \n",
       "4995                             योगदान कर्ताहरूका लागि  \n",
       "4996  समुहमा मिलेर गाइने गीतदेउसीहो जुनतिहारको बेलाम...  \n",
       "4997  नेपाल देश कृषिप्रधान देश हो।गोरुकर्मयोगी किसान...  \n",
       "4998  एउटै आमाको कोखबाट जन्मेको उमेरमा आफूभन्दा कान्...  \n",
       "4999  स्थलीय ग्रहहरूको विपरीत सूर्यको कुनै निश्चित स...  \n",
       "\n",
       "[5000 rows x 3 columns]"
      ]
     },
     "execution_count": 10,
     "metadata": {},
     "output_type": "execute_result"
    }
   ],
   "source": [
    "file_path = 'nepali_wikipedia_articles.csv'  # Change this to your file path\n",
    "df = pd.read_csv(file_path)\n",
    "df"
   ]
  },
  {
   "cell_type": "markdown",
   "metadata": {},
   "source": [
    "# I am creating a list of non nepali words inside this CSV"
   ]
  },
  {
   "cell_type": "code",
   "execution_count": 12,
   "metadata": {},
   "outputs": [
    {
     "name": "stderr",
     "output_type": "stream",
     "text": [
      "C:\\Users\\L E G I O N\\AppData\\Local\\Temp\\ipykernel_23456\\482542982.py:12: FutureWarning: Setting an item of incompatible dtype is deprecated and will raise an error in a future version of pandas. Value '' has dtype incompatible with int64, please explicitly cast to a compatible dtype first.\n",
      "  df.at[row, col] = ''  # Remove non-Nepali content\n"
     ]
    }
   ],
   "source": [
    "non_nepali_words_df = pd.DataFrame(columns=['Row', 'Column', 'Non-Nepali Text'])\n",
    "# Iterate over each cell, detect non-Nepali text and remove them\n",
    "for row in df.index:\n",
    "    for col in df.columns:\n",
    "        cell_value = str(df.at[row, col])  # Get the cell content\n",
    "        cleaned_value = clean_text(cell_value)\n",
    "        # If the cleaned cell value is non-Nepali, store it and remove from the original\n",
    "        if is_non_nepali(cleaned_value):\n",
    "            # Append new data using pd.concat instead of append\n",
    "            new_row = pd.DataFrame({'Row': [row], 'Column': [col], 'Non-Nepali Text': [cleaned_value]})\n",
    "            non_nepali_words_df = pd.concat([non_nepali_words_df, new_row], ignore_index=True)\n",
    "            df.at[row, col] = ''  # Remove non-Nepali content"
   ]
  },
  {
   "cell_type": "code",
   "execution_count": 13,
   "metadata": {},
   "outputs": [],
   "source": [
    "non_nepali_words_file_path = 'non_nepali_words.csv'\n",
    "non_nepali_words_df.to_csv(non_nepali_words_file_path, index=False)\n"
   ]
  },
  {
   "cell_type": "code",
   "execution_count": 16,
   "metadata": {},
   "outputs": [],
   "source": [
    "# Save the cleaned dataset back to the original Excel file (or a new one)\n",
    "cleaned_file_path = 'cleaned_dataset.csv'\n",
    "df.to_csv(cleaned_file_path, index=False)"
   ]
  },
  {
   "cell_type": "markdown",
   "metadata": {},
   "source": [
    "# Stemming"
   ]
  },
  {
   "cell_type": "code",
   "execution_count": null,
   "metadata": {},
   "outputs": [],
   "source": []
  },
  {
   "cell_type": "code",
   "execution_count": 22,
   "metadata": {},
   "outputs": [
    {
     "name": "stdout",
     "output_type": "stream",
     "text": [
      "Defaulting to user installation because normal site-packages is not writeable\n",
      "Requirement already satisfied: scikit-learn in c:\\users\\l e g i o n\\appdata\\roaming\\python\\python312\\site-packages (1.5.1)\n",
      "Requirement already satisfied: numpy>=1.19.5 in c:\\users\\l e g i o n\\appdata\\roaming\\python\\python312\\site-packages (from scikit-learn) (1.26.4)\n",
      "Requirement already satisfied: scipy>=1.6.0 in c:\\users\\l e g i o n\\appdata\\roaming\\python\\python312\\site-packages (from scikit-learn) (1.14.0)\n",
      "Requirement already satisfied: joblib>=1.2.0 in c:\\users\\l e g i o n\\appdata\\roaming\\python\\python312\\site-packages (from scikit-learn) (1.4.2)\n",
      "Requirement already satisfied: threadpoolctl>=3.1.0 in c:\\users\\l e g i o n\\appdata\\roaming\\python\\python312\\site-packages (from scikit-learn) (3.5.0)\n"
     ]
    },
    {
     "name": "stderr",
     "output_type": "stream",
     "text": [
      "DEPRECATION: Loading egg at c:\\program files\\python312\\lib\\site-packages\\vboxapi-1.0-py3.12.egg is deprecated. pip 24.3 will enforce this behaviour change. A possible replacement is to use pip for package installation. Discussion can be found at https://github.com/pypa/pip/issues/12330\n"
     ]
    },
    {
     "name": "stdout",
     "output_type": "stream",
     "text": [
      "Defaulting to user installation because normal site-packages is not writeable\n",
      "Collecting git+https://github.com/sushil79g/Nepali_nlp.git\n",
      "  Cloning https://github.com/sushil79g/Nepali_nlp.git to c:\\users\\l e g i o n\\appdata\\local\\temp\\pip-req-build-rby01pcq\n",
      "  Resolved https://github.com/sushil79g/Nepali_nlp.git to commit 9feccc8331ce5f744a2b3157c8d1ea7c8231b2a4\n",
      "  Preparing metadata (setup.py): started\n",
      "  Preparing metadata (setup.py): finished with status 'done'\n",
      "Collecting gensim==3.7.3 (from Nepali-nlp==0.0.0)\n",
      "  Using cached gensim-3.7.3.tar.gz (23.4 MB)\n",
      "  Preparing metadata (setup.py): started\n",
      "  Preparing metadata (setup.py): finished with status 'done'\n",
      "Collecting requests==2.22.0 (from Nepali-nlp==0.0.0)\n",
      "  Using cached requests-2.22.0-py2.py3-none-any.whl.metadata (5.5 kB)\n",
      "Collecting wget==3.2 (from Nepali-nlp==0.0.0)\n",
      "  Using cached wget-3.2.zip (10 kB)\n",
      "  Preparing metadata (setup.py): started\n",
      "  Preparing metadata (setup.py): finished with status 'done'\n",
      "Requirement already satisfied: beautifulsoup4 in c:\\users\\l e g i o n\\appdata\\roaming\\python\\python312\\site-packages (from Nepali-nlp==0.0.0) (4.13.0b2)\n",
      "Collecting news-please (from Nepali-nlp==0.0.0)\n",
      "  Using cached news_please-1.6.13-py3-none-any.whl.metadata (2.6 kB)\n",
      "Collecting pytesseract (from Nepali-nlp==0.0.0)\n",
      "  Using cached pytesseract-0.3.13-py3-none-any.whl.metadata (11 kB)\n",
      "Collecting spello==1.2.0 (from Nepali-nlp==0.0.0)\n",
      "  Using cached spello-1.2.0-py3-none-any.whl.metadata (8.1 kB)\n",
      "Collecting snowballstemmer (from Nepali-nlp==0.0.0)\n",
      "  Using cached snowballstemmer-2.2.0-py2.py3-none-any.whl.metadata (6.5 kB)\n",
      "Requirement already satisfied: tensorflow in c:\\users\\l e g i o n\\appdata\\roaming\\python\\python312\\site-packages (from Nepali-nlp==0.0.0) (2.17.0)\n",
      "Collecting sentencepiece (from Nepali-nlp==0.0.0)\n",
      "  Using cached sentencepiece-0.2.0-cp312-cp312-win_amd64.whl.metadata (8.3 kB)\n",
      "Collecting sklearn (from Nepali-nlp==0.0.0)\n",
      "  Using cached sklearn-0.0.post12.tar.gz (2.6 kB)\n",
      "  Preparing metadata (setup.py): started\n",
      "  Preparing metadata (setup.py): finished with status 'error'\n"
     ]
    },
    {
     "name": "stderr",
     "output_type": "stream",
     "text": [
      "DEPRECATION: Loading egg at c:\\program files\\python312\\lib\\site-packages\\vboxapi-1.0-py3.12.egg is deprecated. pip 24.3 will enforce this behaviour change. A possible replacement is to use pip for package installation. Discussion can be found at https://github.com/pypa/pip/issues/12330\n",
      "  Running command git clone --filter=blob:none --quiet https://github.com/sushil79g/Nepali_nlp.git 'C:\\Users\\L E G I O N\\AppData\\Local\\Temp\\pip-req-build-rby01pcq'\n",
      "  error: subprocess-exited-with-error\n",
      "  \n",
      "  × python setup.py egg_info did not run successfully.\n",
      "  │ exit code: 1\n",
      "  ╰─> [15 lines of output]\n",
      "      The 'sklearn' PyPI package is deprecated, use 'scikit-learn'\n",
      "      rather than 'sklearn' for pip commands.\n",
      "      \n",
      "      Here is how to fix this error in the main use cases:\n",
      "      - use 'pip install scikit-learn' rather than 'pip install sklearn'\n",
      "      - replace 'sklearn' by 'scikit-learn' in your pip requirements files\n",
      "        (requirements.txt, setup.py, setup.cfg, Pipfile, etc ...)\n",
      "      - if the 'sklearn' package is used by one of your dependencies,\n",
      "        it would be great if you take some time to track which package uses\n",
      "        'sklearn' instead of 'scikit-learn' and report it to their issue tracker\n",
      "      - as a last resort, set the environment variable\n",
      "        SKLEARN_ALLOW_DEPRECATED_SKLEARN_PACKAGE_INSTALL=True to avoid this error\n",
      "      \n",
      "      More information is available at\n",
      "      https://github.com/scikit-learn/sklearn-pypi-package\n",
      "      [end of output]\n",
      "  \n",
      "  note: This error originates from a subprocess, and is likely not a problem with pip.\n",
      "error: metadata-generation-failed\n",
      "\n",
      "× Encountered error while generating package metadata.\n",
      "╰─> See above for output.\n",
      "\n",
      "note: This is an issue with the package mentioned above, not pip.\n",
      "hint: See above for details.\n"
     ]
    }
   ],
   "source": [
    "!pip install scikit-learn\n",
    "!pip install git+https://github.com/sushil79g/Nepali_nlp.git\n"
   ]
  },
  {
   "cell_type": "code",
   "execution_count": 24,
   "metadata": {},
   "outputs": [
    {
     "ename": "ModuleNotFoundError",
     "evalue": "No module named 'Nepali_nlp'",
     "output_type": "error",
     "traceback": [
      "\u001b[1;31m---------------------------------------------------------------------------\u001b[0m",
      "\u001b[1;31mModuleNotFoundError\u001b[0m                       Traceback (most recent call last)",
      "Cell \u001b[1;32mIn[24], line 1\u001b[0m\n\u001b[1;32m----> 1\u001b[0m \u001b[38;5;28;01mfrom\u001b[39;00m \u001b[38;5;21;01mNepali_nlp\u001b[39;00m \u001b[38;5;28;01mimport\u001b[39;00m Stem\n\u001b[0;32m      2\u001b[0m text \u001b[38;5;241m=\u001b[39m \u001b[38;5;124m'\u001b[39m\u001b[38;5;124mनेताहरुमा यत्तिको राजनैतिक संस्कार हुनुपर्छ\u001b[39m\u001b[38;5;124m'\u001b[39m\n\u001b[0;32m      3\u001b[0m Stem()\u001b[38;5;241m.\u001b[39mrootify(text)\n",
      "\u001b[1;31mModuleNotFoundError\u001b[0m: No module named 'Nepali_nlp'"
     ]
    }
   ],
   "source": [
    "from Nepali_nlp import Stem\n",
    "text = 'नेताहरुमा यत्तिको राजनैतिक संस्कार हुनुपर्छ'\n",
    "Stem().rootify(text)"
   ]
  },
  {
   "cell_type": "code",
   "execution_count": 25,
   "metadata": {},
   "outputs": [
    {
     "name": "stdout",
     "output_type": "stream",
     "text": [
      "Defaulting to user installation because normal site-packages is not writeable\n",
      "Collecting nltk\n",
      "  Downloading nltk-3.9.1-py3-none-any.whl.metadata (2.9 kB)\n",
      "Requirement already satisfied: click in c:\\users\\l e g i o n\\appdata\\roaming\\python\\python312\\site-packages (from nltk) (8.1.7)\n",
      "Requirement already satisfied: joblib in c:\\users\\l e g i o n\\appdata\\roaming\\python\\python312\\site-packages (from nltk) (1.4.2)\n",
      "Collecting regex>=2021.8.3 (from nltk)\n",
      "  Using cached regex-2024.9.11-cp312-cp312-win_amd64.whl.metadata (41 kB)\n",
      "Collecting tqdm (from nltk)\n",
      "  Using cached tqdm-4.66.5-py3-none-any.whl.metadata (57 kB)\n",
      "Requirement already satisfied: colorama in c:\\users\\l e g i o n\\appdata\\roaming\\python\\python312\\site-packages (from click->nltk) (0.4.6)\n",
      "Downloading nltk-3.9.1-py3-none-any.whl (1.5 MB)\n",
      "   ---------------------------------------- 0.0/1.5 MB ? eta -:--:--\n",
      "   ------ --------------------------------- 0.3/1.5 MB ? eta -:--:--\n",
      "   ---------------------------------------- 1.5/1.5 MB 7.2 MB/s eta 0:00:00\n",
      "Using cached regex-2024.9.11-cp312-cp312-win_amd64.whl (273 kB)\n",
      "Using cached tqdm-4.66.5-py3-none-any.whl (78 kB)\n",
      "Installing collected packages: tqdm, regex, nltk\n",
      "Successfully installed nltk-3.9.1 regex-2024.9.11 tqdm-4.66.5\n"
     ]
    },
    {
     "name": "stderr",
     "output_type": "stream",
     "text": [
      "DEPRECATION: Loading egg at c:\\program files\\python312\\lib\\site-packages\\vboxapi-1.0-py3.12.egg is deprecated. pip 24.3 will enforce this behaviour change. A possible replacement is to use pip for package installation. Discussion can be found at https://github.com/pypa/pip/issues/12330\n"
     ]
    }
   ],
   "source": [
    "!pip install nltk\n"
   ]
  },
  {
   "cell_type": "code",
   "execution_count": null,
   "metadata": {},
   "outputs": [],
   "source": [
    "from nltk.corpus import stopwords\n",
    "stop_words = set(stopwords.words('nepali'))\n",
    "\n",
    "words = text.split()\n",
    "text = ' '.join([word for word in words if word not in stop_words])\n",
    "def preprocessing(text):\n",
    "    stop_words = set(stopwords.words('nepali'))\n",
    "    words = text.split()\n",
    "    text = ' '.join([word for word in words if word not in stop_words])\n",
    "    text = re.sub(r'\\s+', ' ', text) \n",
    "    # Single Nepali character removal\n",
    "    text = re.sub(r'\\s+[\\u0900-\\u097F]\\s+', ' ', text)\n",
    "      # Remove multiple spaces\n",
    "    text = re.sub(r'\\s+', ' ', text) \n"
   ]
  },
  {
   "cell_type": "code",
   "execution_count": null,
   "metadata": {},
   "outputs": [],
   "source": []
  }
 ],
 "metadata": {
  "kernelspec": {
   "display_name": "Python 3",
   "language": "python",
   "name": "python3"
  },
  "language_info": {
   "codemirror_mode": {
    "name": "ipython",
    "version": 3
   },
   "file_extension": ".py",
   "mimetype": "text/x-python",
   "name": "python",
   "nbconvert_exporter": "python",
   "pygments_lexer": "ipython3",
   "version": "3.12.3"
  }
 },
 "nbformat": 4,
 "nbformat_minor": 2
}
