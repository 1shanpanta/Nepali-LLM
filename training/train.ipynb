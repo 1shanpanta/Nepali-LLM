{
 "cells": [
  {
   "cell_type": "code",
   "execution_count": 2,
   "metadata": {},
   "outputs": [
    {
     "name": "stdout",
     "output_type": "stream",
     "text": [
      "Type of tokenized_data: <class 'dict'>\n",
      "tokenized_data is not a list or ndarray\n",
      "Tokenized Data Length: 2\n"
     ]
    }
   ],
   "source": [
    "import numpy as np\n",
    "\n",
    "# Load your tokenized data\n",
    "tokenized_data = np.load(\"C:/Users/L E G I O N/Desktop/Nepali-LLM/Preprocessing/sentencepiece_tokenized.pkl\", allow_pickle=True)\n",
    "\n",
    "# Check the type and structure of the tokenized data\n",
    "print(f\"Type of tokenized_data: {type(tokenized_data)}\")\n",
    "if isinstance(tokenized_data, np.ndarray):\n",
    "    print(f\"Shape of tokenized_data: {tokenized_data.shape}\")\n",
    "elif isinstance(tokenized_data, list):\n",
    "    print(f\"Length of tokenized_data: {len(tokenized_data)}\")\n",
    "else:\n",
    "    print(\"tokenized_data is not a list or ndarray\")\n",
    "\n",
    "# If it's a list or ndarray, we might need to concatenate or flatten\n",
    "if isinstance(tokenized_data, list):\n",
    "    tokenized_data = np.concatenate(tokenized_data, axis=0)  # Flatten the list of arrays\n",
    "elif isinstance(tokenized_data, np.ndarray) and tokenized_data.ndim > 1:\n",
    "    tokenized_data = tokenized_data.flatten()  # Flatten if multi-dimensional\n",
    "\n",
    "# Print the final length of tokenized data\n",
    "print(f\"Tokenized Data Length: {len(tokenized_data)}\")\n"
   ]
  },
  {
   "cell_type": "code",
   "execution_count": null,
   "metadata": {},
   "outputs": [],
   "source": []
  }
 ],
 "metadata": {
  "kernelspec": {
   "display_name": "Python 3",
   "language": "python",
   "name": "python3"
  },
  "language_info": {
   "codemirror_mode": {
    "name": "ipython",
    "version": 3
   },
   "file_extension": ".py",
   "mimetype": "text/x-python",
   "name": "python",
   "nbconvert_exporter": "python",
   "pygments_lexer": "ipython3",
   "version": "3.12.3"
  }
 },
 "nbformat": 4,
 "nbformat_minor": 2
}
