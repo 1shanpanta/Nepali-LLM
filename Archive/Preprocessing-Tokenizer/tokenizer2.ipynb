{
 "cells": [
  {
   "cell_type": "code",
   "execution_count": 1,
   "metadata": {},
   "outputs": [
    {
     "name": "stdout",
     "output_type": "stream",
     "text": [
      "Total number of character: 4918620\n",
      "यो एक स्वतन्त्रविश्वकोशहो जसलाईसबैले सम्पादन गर्न सक्छन्।नेपाली भाषामा कुल३१,३५० लेखहरूसङ्ग्रहित छन\n"
     ]
    }
   ],
   "source": [
    "with open(\"dataset.txt\", \"r\", encoding=\"utf-8\") as f:\n",
    "    raw_text = f.read()\n",
    "    \n",
    "print(\"Total number of character:\", len(raw_text))\n",
    "print(raw_text[:99])"
   ]
  },
  {
   "cell_type": "code",
   "execution_count": 3,
   "metadata": {},
   "outputs": [
    {
     "name": "stdout",
     "output_type": "stream",
     "text": [
      "['यो', 'एक', 'स्वतन्त्रविश्वकोशहो', 'जसलाईसबैले', 'सम्पादन', 'गर्न', 'सक्छन्।नेपाली', 'भाषामा', 'कुल३१', ',', '३५०', 'लेखहरूसङ्ग्रहित', 'छन्।', 'देवनागरी', 'लिपिअथवानागरी', 'लिपिबायाँ', 'देखि', 'दायाँ', 'सम्म', 'लेखिनेअक्षरात्मक', 'लिपिमा', 'आधारित', 'एकप्राचीन', 'ब्राह्मी', 'लिपिहो।', 'यसको', 'प्रयोगभारतीय', 'उपमहाद्वीपमा', 'हुने', 'गर्दछ।', 'यसको', 'विकासप्राचीन', 'भारतमा', 'पहिलो', 'देखि', 'चौथो', 'शताब्दीको', 'बीचमा', 'भएको', 'थियो', 'भने', 'यसको', 'प्रयोग', 'सातौँ', 'शताब्दी', 'देखी', 'हुँदै', 'आएको', 'छ।', 'देवनागरी']\n"
     ]
    }
   ],
   "source": [
    "import re\n",
    "result = re.split(r'([,.:;?_!\"()\\']|--|\\s)', raw_text)\n",
    "result = [item.strip() for item in result if item.strip()]\n",
    "print(result[:50])\n"
   ]
  },
  {
   "cell_type": "code",
   "execution_count": 5,
   "metadata": {},
   "outputs": [
    {
     "name": "stdout",
     "output_type": "stream",
     "text": [
      "['यो', 'एक', 'स्वतन्त्रविश्वकोशहो', 'जसलाईसबैले', 'सम्पादन', 'गर्न', 'सक्छन्।नेपाली', 'भाषामा', 'कुल३१', ',', '३५०', 'लेखहरूसङ्ग्रहित', 'छन्।', 'देवनागरी', 'लिपिअथवानागरी', 'लिपिबायाँ', 'देखि', 'दायाँ', 'सम्म', 'लेखिनेअक्षरात्मक', 'लिपिमा', 'आधारित', 'एकप्राचीन', 'ब्राह्मी', 'लिपिहो।', 'यसको', 'प्रयोगभारतीय', 'उपमहाद्वीपमा', 'हुने', 'गर्दछ।', 'यसको', 'विकासप्राचीन', 'भारतमा', 'पहिलो', 'देखि', 'चौथो', 'शताब्दीको', 'बीचमा', 'भएको', 'थियो', 'भने', 'यसको', 'प्रयोग', 'सातौँ', 'शताब्दी', 'देखी', 'हुँदै', 'आएको', 'छ।', 'देवनागरी']\n"
     ]
    }
   ],
   "source": [
    "# Strip whitespace from each item and then filter out any empty strings.\n",
    "result = [item for item in result if item.strip()]\n",
    "print(result[:50])"
   ]
  },
  {
   "cell_type": "code",
   "execution_count": null,
   "metadata": {},
   "outputs": [],
   "source": []
  },
  {
   "cell_type": "code",
   "execution_count": null,
   "metadata": {},
   "outputs": [],
   "source": []
  },
  {
   "cell_type": "code",
   "execution_count": null,
   "metadata": {},
   "outputs": [],
   "source": []
  }
 ],
 "metadata": {
  "kernelspec": {
   "display_name": "Python 3",
   "language": "python",
   "name": "python3"
  },
  "language_info": {
   "codemirror_mode": {
    "name": "ipython",
    "version": 3
   },
   "file_extension": ".py",
   "mimetype": "text/x-python",
   "name": "python",
   "nbconvert_exporter": "python",
   "pygments_lexer": "ipython3",
   "version": "3.12.3"
  }
 },
 "nbformat": 4,
 "nbformat_minor": 2
}
